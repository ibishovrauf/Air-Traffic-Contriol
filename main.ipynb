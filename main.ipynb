{
 "cells": [
  {
   "cell_type": "code",
   "execution_count": 1,
   "metadata": {
    "pycharm": {
     "name": "#%%\n"
    }
   },
   "outputs": [
    {
     "name": "stdout",
     "output_type": "stream",
     "text": [
      "pygame 2.1.2 (SDL 2.0.18, Python 3.10.2)\n",
      "Hello from the pygame community. https://www.pygame.org/contribute.html\n",
      "Using Python-based geo functions\n",
      "Warning: RTree could not be loaded. areafilter get_intersecting and get_knearest won't work\n"
     ]
    },
    {
     "name": "stderr",
     "output_type": "stream",
     "text": [
      "c:\\Python310\\lib\\site-packages\\keras\\optimizers\\optimizer_v2\\adam.py:110: UserWarning: The `lr` argument is deprecated, use `learning_rate` instead.\n",
      "  super(Adam, self).__init__(name, **kwargs)\n"
     ]
    },
    {
     "name": "stdout",
     "output_type": "stream",
     "text": [
      "Reading config from C:\\Users\\raufi\\bluesky\\settings.cfg\n",
      "Reading magnetic variation data\n",
      "Loading global navigation database...\n",
      "Reading cache: C:/Users/raufi/bluesky/data/cache\\py3\\navdata.p\n",
      "Failed to load OpenAP performance model\n",
      "Failed to load BADA performance model\n",
      "plugin name area\n",
      "Successfully loaded plugin AREA\n",
      "plugin name datafeed\n",
      "Successfully loaded plugin DATAFEED\n",
      "\n",
      "----- Episode 1 of 2\n",
      "\n",
      "Setting up screen...\n",
      "Reading coastlines.dat\n",
      "     230912  coastlines added.\n",
      "Total reward: 1008.0 - Epsilon: 1.0\n",
      "Training...\n",
      "Simulation time: 20.6 s - Training time: 0.0 s - Total: 20.6 s\n",
      "\n",
      "----- Episode 2 of 2\n",
      "\n",
      "Setting up screen...\n",
      "Reading coastlines.dat\n",
      "     230912  coastlines added.\n",
      "1/1 [==============================] - 0s 121ms/step\n",
      "1/1 [==============================] - 0s 31ms/step\n",
      "1/1 [==============================] - 0s 36ms/step\n",
      "1/1 [==============================] - 0s 33ms/step\n",
      "1/1 [==============================] - 0s 45ms/step\n",
      "1/1 [==============================] - 0s 35ms/step\n",
      "1/1 [==============================] - 0s 34ms/step\n",
      "1/1 [==============================] - 0s 29ms/step\n",
      "1/1 [==============================] - 0s 25ms/step\n",
      "1/1 [==============================] - 0s 30ms/step\n",
      "1/1 [==============================] - 0s 32ms/step\n",
      "1/1 [==============================] - 0s 28ms/step\n",
      "1/1 [==============================] - 0s 30ms/step\n",
      "1/1 [==============================] - 0s 33ms/step\n",
      "1/1 [==============================] - 0s 30ms/step\n",
      "1/1 [==============================] - 0s 29ms/step\n",
      "1/1 [==============================] - 0s 31ms/step\n",
      "1/1 [==============================] - 0s 28ms/step\n",
      "1/1 [==============================] - 0s 27ms/step\n",
      "1/1 [==============================] - 0s 26ms/step\n",
      "1/1 [==============================] - 0s 27ms/step\n",
      "1/1 [==============================] - 0s 28ms/step\n",
      "1/1 [==============================] - 0s 28ms/step\n",
      "1/1 [==============================] - 0s 24ms/step\n",
      "1/1 [==============================] - 0s 27ms/step\n",
      "1/1 [==============================] - 0s 29ms/step\n",
      "1/1 [==============================] - 0s 30ms/step\n",
      "1/1 [==============================] - 0s 27ms/step\n",
      "1/1 [==============================] - 0s 26ms/step\n",
      "1/1 [==============================] - 0s 30ms/step\n",
      "1/1 [==============================] - 0s 33ms/step\n",
      "1/1 [==============================] - 0s 32ms/step\n"
     ]
    }
   ],
   "source": [
    "import configparser\n",
    "import datetime\n",
    "\n",
    "from project_logic.Memory import Memory\n",
    "from project_logic.Model import Model\n",
    "from project_logic.utils import set_train_path\n",
    "from simulator import Simulator\n",
    "\n",
    "content = configparser.ConfigParser()\n",
    "content.read('project_logic\\\\training.ini')\n",
    "\n",
    "memory_min = content['memory'].getint('min_size')\n",
    "memory_max = content['memory'].getint('max_size')\n",
    "\n",
    "gamma = float(content['agent'].get('gamma'))\n",
    "num_state = content['agent'].get('num_states')\n",
    "num_action = content['agent'].getint('num_actions')\n",
    "num_state = (eval(num_state))\n",
    "\n",
    "max_steps = content['simulation'].getint('max_steps')\n",
    "total_episodes = content['simulation'].getint('total_episodes')\n",
    "n_traf = content['simulation'].getint('n_traf')\n",
    "\n",
    "batch_size = content['model'].getint('batch_size')\n",
    "num_layers = content['model'].getint('num_layers')\n",
    "input_dim = content['model'].getint('input_dim')\n",
    "width_layers = content['model'].getint('width_layers')\n",
    "learning_rate = content['model'].get('learning_rate')\n",
    "learning_rate = float(learning_rate)\n",
    "training_epochs = content['model'].getint('training_epochs')\n",
    "\n",
    "memory = Memory(max_size=memory_max, min_size=memory_min)\n",
    "model = Model(\n",
    "    num_layers=num_layers,\n",
    "    width=width_layers,\n",
    "    batch_size=batch_size,\n",
    "    learning_rate=learning_rate,\n",
    "    input_dim=input_dim,\n",
    "    output_dim=num_action\n",
    ")\n",
    "simulation = Simulator(\n",
    "    memory=memory,\n",
    "    model=model,\n",
    "    gamma=gamma,\n",
    "    n_traf=n_traf,\n",
    "    state_shape=num_state,\n",
    "    num_actions=num_action,\n",
    "    max_step=max_steps,\n",
    "    training_epochs=training_epochs)\n",
    "\n",
    "episode = 0\n",
    "timestamp_start = datetime.datetime.now()\n",
    "path = set_train_path()\n",
    "\n",
    "while episode < total_episodes:\n",
    "    print('\\n----- Episode', str(episode + 1), 'of', str(total_episodes))\n",
    "    epsilon = 1.0 - (\n",
    "                episode / total_episodes)  # set the epsilon for this episode according to epsilon-greedy policy\n",
    "    simulation_time, training_time = simulation.run(episode, epsilon)  # run the simulation\n",
    "    print('Simulation time:', simulation_time, 's - Training time:', training_time, 's - Total:',\n",
    "            round(simulation_time + training_time, 1), 's')\n",
    "    episode += 1\n",
    "    simulation._Model.save_model(path, episode)\n",
    "\n",
    "print(\"\\n----- Start time:\", timestamp_start)\n",
    "print(\"----- End time:\", datetime.datetime.now())"
   ]
  },
  {
   "cell_type": "code",
   "execution_count": null,
   "metadata": {
    "pycharm": {
     "name": "#%%\n"
    }
   },
   "outputs": [],
   "source": []
  }
 ],
 "metadata": {
  "kernelspec": {
   "display_name": "Python 3.10.2 64-bit",
   "language": "python",
   "name": "python3"
  },
  "language_info": {
   "codemirror_mode": {
    "name": "ipython",
    "version": 3
   },
   "file_extension": ".py",
   "mimetype": "text/x-python",
   "name": "python",
   "nbconvert_exporter": "python",
   "pygments_lexer": "ipython3",
   "version": "3.10.2"
  },
  "orig_nbformat": 4,
  "vscode": {
   "interpreter": {
    "hash": "369f2c481f4da34e4445cda3fffd2e751bd1c4d706f27375911949ba6bb62e1c"
   }
  }
 },
 "nbformat": 4,
 "nbformat_minor": 2
}