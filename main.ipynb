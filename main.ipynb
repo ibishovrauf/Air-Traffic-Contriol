{
 "cells": [
  {
   "cell_type": "code",
   "execution_count": 1,
   "metadata": {},
   "outputs": [
    {
     "name": "stdout",
     "output_type": "stream",
     "text": [
      "pygame 2.1.2 (SDL 2.0.18, Python 3.10.2)\n",
      "Hello from the pygame community. https://www.pygame.org/contribute.html\n",
      "Using Python-based geo functions\n",
      "Warning: RTree could not be loaded. areafilter get_intersecting and get_knearest won't work\n"
     ]
    },
    {
     "name": "stderr",
     "output_type": "stream",
     "text": [
      "c:\\Python310\\lib\\site-packages\\keras\\optimizers\\optimizer_v2\\adam.py:110: UserWarning: The `lr` argument is deprecated, use `learning_rate` instead.\n",
      "  super(Adam, self).__init__(name, **kwargs)\n"
     ]
    },
    {
     "name": "stdout",
     "output_type": "stream",
     "text": [
      "Reading config from C:\\Users\\raufi\\bluesky\\settings.cfg\n",
      "Reading magnetic variation data\n",
      "Loading global navigation database...\n",
      "Reading cache: C:/Users/raufi/bluesky/data/cache\\py3\\navdata.p\n",
      "Failed to load OpenAP performance model\n",
      "Failed to load BADA performance model\n",
      "plugin name area\n",
      "Successfully loaded plugin AREA\n",
      "plugin name datafeed\n",
      "Successfully loaded plugin DATAFEED\n",
      "\n",
      "----- Episode 1 of 50\n",
      "\n",
      "Setting up screen...\n",
      "Reading coastlines.dat\n",
      "     230912  coastlines added.\n"
     ]
    },
    {
     "ename": "KeyboardInterrupt",
     "evalue": "",
     "output_type": "error",
     "traceback": [
      "\u001b[1;31m---------------------------------------------------------------------------\u001b[0m",
      "\u001b[1;31mKeyboardInterrupt\u001b[0m                         Traceback (most recent call last)",
      "\u001b[1;32mc:\\Users\\raufi\\Downloads\\Telegram Desktop\\bluesky-simulator-2022.5.27\\bluesky-simulator-2022.5.27\\main.ipynb Cell 1\u001b[0m in \u001b[0;36m<cell line: 55>\u001b[1;34m()\u001b[0m\n\u001b[0;32m     <a href='vscode-notebook-cell:/c%3A/Users/raufi/Downloads/Telegram%20Desktop/bluesky-simulator-2022.5.27/bluesky-simulator-2022.5.27/main.ipynb#W0sZmlsZQ%3D%3D?line=55'>56</a>\u001b[0m \u001b[39mprint\u001b[39m(\u001b[39m'\u001b[39m\u001b[39m\\n\u001b[39;00m\u001b[39m----- Episode\u001b[39m\u001b[39m'\u001b[39m, \u001b[39mstr\u001b[39m(episode \u001b[39m+\u001b[39m \u001b[39m1\u001b[39m), \u001b[39m'\u001b[39m\u001b[39mof\u001b[39m\u001b[39m'\u001b[39m, \u001b[39mstr\u001b[39m(total_episodes))\n\u001b[0;32m     <a href='vscode-notebook-cell:/c%3A/Users/raufi/Downloads/Telegram%20Desktop/bluesky-simulator-2022.5.27/bluesky-simulator-2022.5.27/main.ipynb#W0sZmlsZQ%3D%3D?line=56'>57</a>\u001b[0m epsilon \u001b[39m=\u001b[39m \u001b[39m1.0\u001b[39m \u001b[39m-\u001b[39m (\n\u001b[0;32m     <a href='vscode-notebook-cell:/c%3A/Users/raufi/Downloads/Telegram%20Desktop/bluesky-simulator-2022.5.27/bluesky-simulator-2022.5.27/main.ipynb#W0sZmlsZQ%3D%3D?line=57'>58</a>\u001b[0m             episode \u001b[39m/\u001b[39m total_episodes)  \u001b[39m# set the epsilon for this episode according to epsilon-greedy policy\u001b[39;00m\n\u001b[1;32m---> <a href='vscode-notebook-cell:/c%3A/Users/raufi/Downloads/Telegram%20Desktop/bluesky-simulator-2022.5.27/bluesky-simulator-2022.5.27/main.ipynb#W0sZmlsZQ%3D%3D?line=58'>59</a>\u001b[0m simulation_time, training_time \u001b[39m=\u001b[39m simulation\u001b[39m.\u001b[39;49mrun(episode, epsilon)  \u001b[39m# run the simulation\u001b[39;00m\n\u001b[0;32m     <a href='vscode-notebook-cell:/c%3A/Users/raufi/Downloads/Telegram%20Desktop/bluesky-simulator-2022.5.27/bluesky-simulator-2022.5.27/main.ipynb#W0sZmlsZQ%3D%3D?line=59'>60</a>\u001b[0m \u001b[39mprint\u001b[39m(\u001b[39m'\u001b[39m\u001b[39mSimulation time:\u001b[39m\u001b[39m'\u001b[39m, simulation_time, \u001b[39m'\u001b[39m\u001b[39ms - Training time:\u001b[39m\u001b[39m'\u001b[39m, training_time, \u001b[39m'\u001b[39m\u001b[39ms - Total:\u001b[39m\u001b[39m'\u001b[39m,\n\u001b[0;32m     <a href='vscode-notebook-cell:/c%3A/Users/raufi/Downloads/Telegram%20Desktop/bluesky-simulator-2022.5.27/bluesky-simulator-2022.5.27/main.ipynb#W0sZmlsZQ%3D%3D?line=60'>61</a>\u001b[0m         \u001b[39mround\u001b[39m(simulation_time \u001b[39m+\u001b[39m training_time, \u001b[39m1\u001b[39m), \u001b[39m'\u001b[39m\u001b[39ms\u001b[39m\u001b[39m'\u001b[39m)\n\u001b[0;32m     <a href='vscode-notebook-cell:/c%3A/Users/raufi/Downloads/Telegram%20Desktop/bluesky-simulator-2022.5.27/bluesky-simulator-2022.5.27/main.ipynb#W0sZmlsZQ%3D%3D?line=61'>62</a>\u001b[0m episode \u001b[39m+\u001b[39m\u001b[39m=\u001b[39m \u001b[39m1\u001b[39m\n",
      "File \u001b[1;32mc:\\Users\\raufi\\Downloads\\Telegram Desktop\\bluesky-simulator-2022.5.27\\bluesky-simulator-2022.5.27\\simulator.py:86\u001b[0m, in \u001b[0;36mSimulator.run\u001b[1;34m(self, episode, epsilon)\u001b[0m\n\u001b[0;32m     84\u001b[0m \u001b[39mwhile\u001b[39;00m \u001b[39mnot\u001b[39;00m bs\u001b[39m.\u001b[39msim\u001b[39m.\u001b[39mstate \u001b[39m==\u001b[39m bs\u001b[39m.\u001b[39mEND \u001b[39mand\u001b[39;00m step \u001b[39m<\u001b[39m \u001b[39mself\u001b[39m\u001b[39m.\u001b[39m_max_step:\n\u001b[0;32m     85\u001b[0m     step\u001b[39m+\u001b[39m\u001b[39m=\u001b[39m\u001b[39m1\u001b[39m\n\u001b[1;32m---> 86\u001b[0m     bs\u001b[39m.\u001b[39;49msim\u001b[39m.\u001b[39;49mstep() \u001b[39m# Update sim\u001b[39;00m\n\u001b[0;32m     87\u001b[0m     bs\u001b[39m.\u001b[39mscr\u001b[39m.\u001b[39mupdate()   \u001b[39m# GUI update\u001b[39;00m\n\u001b[0;32m     88\u001b[0m     \u001b[39mif\u001b[39;00m bs\u001b[39m.\u001b[39mtraf\u001b[39m.\u001b[39mcd\u001b[39m.\u001b[39mconfpairs:\n",
      "File \u001b[1;32mc:\\Users\\raufi\\Downloads\\Telegram Desktop\\bluesky-simulator-2022.5.27\\bluesky-simulator-2022.5.27\\bluesky\\simulation\\simulation.py:99\u001b[0m, in \u001b[0;36mSimulation.step\u001b[1;34m(self)\u001b[0m\n\u001b[0;32m     96\u001b[0m     \u001b[39mself\u001b[39m\u001b[39m.\u001b[39mutc \u001b[39m+\u001b[39m\u001b[39m=\u001b[39m datetime\u001b[39m.\u001b[39mtimedelta(seconds\u001b[39m=\u001b[39m\u001b[39mself\u001b[39m\u001b[39m.\u001b[39msimdt)\n\u001b[0;32m     98\u001b[0m     \u001b[39m# Update traffic and other update functions for the next timestep\u001b[39;00m\n\u001b[1;32m---> 99\u001b[0m     bs\u001b[39m.\u001b[39;49mtraf\u001b[39m.\u001b[39;49mupdate()\n\u001b[0;32m    100\u001b[0m     simtime\u001b[39m.\u001b[39mupdate()\n\u001b[0;32m    102\u001b[0m \u001b[39m# Always update syst\u001b[39;00m\n",
      "File \u001b[1;32mc:\\Users\\raufi\\Downloads\\Telegram Desktop\\bluesky-simulator-2022.5.27\\bluesky-simulator-2022.5.27\\bluesky\\traffic\\traffic.py:405\u001b[0m, in \u001b[0;36mTraffic.update\u001b[1;34m(self)\u001b[0m\n\u001b[0;32m    402\u001b[0m \u001b[39mself\u001b[39m\u001b[39m.\u001b[39madsb\u001b[39m.\u001b[39mupdate()\n\u001b[0;32m    404\u001b[0m \u001b[39m#---------- Fly the Aircraft --------------------------\u001b[39;00m\n\u001b[1;32m--> 405\u001b[0m \u001b[39mself\u001b[39;49m\u001b[39m.\u001b[39;49map\u001b[39m.\u001b[39;49mupdate()  \u001b[39m# Autopilot logic\u001b[39;00m\n\u001b[0;32m    406\u001b[0m \u001b[39mself\u001b[39m\u001b[39m.\u001b[39mupdate_asas()  \u001b[39m# Airborne Separation Assurance\u001b[39;00m\n\u001b[0;32m    407\u001b[0m \u001b[39mself\u001b[39m\u001b[39m.\u001b[39maporasas\u001b[39m.\u001b[39mupdate()   \u001b[39m# Decide to use autopilot or ASAS for commands\u001b[39;00m\n",
      "File \u001b[1;32mc:\\Users\\raufi\\Downloads\\Telegram Desktop\\bluesky-simulator-2022.5.27\\bluesky-simulator-2022.5.27\\bluesky\\traffic\\autopilot.py:277\u001b[0m, in \u001b[0;36mAutopilot.update\u001b[1;34m(self)\u001b[0m\n\u001b[0;32m    274\u001b[0m \u001b[39mdef\u001b[39;00m \u001b[39mupdate\u001b[39m(\u001b[39mself\u001b[39m):\n\u001b[0;32m    275\u001b[0m     \u001b[39m# FMS LNAV mode:\u001b[39;00m\n\u001b[0;32m    276\u001b[0m     \u001b[39m# qdr[deg],distinnm[nm]\u001b[39;00m\n\u001b[1;32m--> 277\u001b[0m     qdr, distinnm \u001b[39m=\u001b[39m geo\u001b[39m.\u001b[39;49mqdrdist(bs\u001b[39m.\u001b[39;49mtraf\u001b[39m.\u001b[39;49mlat, bs\u001b[39m.\u001b[39;49mtraf\u001b[39m.\u001b[39;49mlon,\n\u001b[0;32m    278\u001b[0m                                 bs\u001b[39m.\u001b[39;49mtraf\u001b[39m.\u001b[39;49mactwp\u001b[39m.\u001b[39;49mlat, bs\u001b[39m.\u001b[39;49mtraf\u001b[39m.\u001b[39;49mactwp\u001b[39m.\u001b[39;49mlon)  \u001b[39m# [deg][nm])\u001b[39;00m\n\u001b[0;32m    280\u001b[0m     \u001b[39mself\u001b[39m\u001b[39m.\u001b[39mqdr2wp  \u001b[39m=\u001b[39m qdr\n\u001b[0;32m    281\u001b[0m     \u001b[39mself\u001b[39m\u001b[39m.\u001b[39mdist2wp \u001b[39m=\u001b[39m distinnm\u001b[39m*\u001b[39mnm  \u001b[39m# Conversion to meters\u001b[39;00m\n",
      "File \u001b[1;32mc:\\Users\\raufi\\Downloads\\Telegram Desktop\\bluesky-simulator-2022.5.27\\bluesky-simulator-2022.5.27\\bluesky\\tools\\geo.py:92\u001b[0m, in \u001b[0;36mqdrdist\u001b[1;34m(latd1, lond1, latd2, lond2)\u001b[0m\n\u001b[0;32m     89\u001b[0m r    \u001b[39m=\u001b[39m sw \u001b[39m*\u001b[39m res1 \u001b[39m+\u001b[39m (\u001b[39m1\u001b[39m \u001b[39m-\u001b[39m sw) \u001b[39m*\u001b[39m res2\n\u001b[0;32m     91\u001b[0m \u001b[39m# Convert to radians\u001b[39;00m\n\u001b[1;32m---> 92\u001b[0m lat1 \u001b[39m=\u001b[39m np\u001b[39m.\u001b[39;49mradians(latd1)\n\u001b[0;32m     93\u001b[0m lon1 \u001b[39m=\u001b[39m np\u001b[39m.\u001b[39mradians(lond1)\n\u001b[0;32m     94\u001b[0m lat2 \u001b[39m=\u001b[39m np\u001b[39m.\u001b[39mradians(latd2)\n",
      "\u001b[1;31mKeyboardInterrupt\u001b[0m: "
     ]
    },
    {
     "ename": "",
     "evalue": "",
     "output_type": "error",
     "traceback": [
      "The Kernel crashed while executing code in the the current cell or a previous cell. Please review the code in the cell(s) to identify a possible cause of the failure. Click <a href='https://aka.ms/vscodeJupyterKernelCrash'>here</a> for more info. View Jupyter <a href='command:jupyter.viewOutput'>log</a> for further details."
     ]
    }
   ],
   "source": [
    "import configparser\n",
    "import datetime\n",
    "\n",
    "from project_logic.Memory import Memory\n",
    "from project_logic.Model import Model\n",
    "from project_logic.utils import set_train_path\n",
    "from simulator import Simulator\n",
    "\n",
    "content = configparser.ConfigParser()\n",
    "content.read('project_logic\\\\training.ini')\n",
    "\n",
    "memory_min = content['memory'].getint('min_size')\n",
    "memory_max = content['memory'].getint('max_size')\n",
    "\n",
    "gamma = float(content['agent'].get('gamma'))\n",
    "num_state = content['agent'].get('num_states')\n",
    "num_action = content['agent'].getint('num_actions')\n",
    "num_state = (eval(num_state))\n",
    "\n",
    "max_steps = content['simulation'].getint('max_steps')\n",
    "total_episodes = content['simulation'].getint('total_episodes')\n",
    "n_traf = content['simulation'].getint('n_traf')\n",
    "\n",
    "batch_size = content['model'].getint('batch_size')\n",
    "num_layers = content['model'].getint('num_layers')\n",
    "input_dim = content['model'].getint('input_dim')\n",
    "width_layers = content['model'].getint('width_layers')\n",
    "learning_rate = content['model'].get('learning_rate')\n",
    "learning_rate = float(learning_rate)\n",
    "training_epochs = content['model'].getint('training_epochs')\n",
    "\n",
    "memory = Memory(max_size=memory_max, min_size=memory_min)\n",
    "model = Model(\n",
    "    num_layers=num_layers,\n",
    "    width=width_layers,\n",
    "    batch_size=batch_size,\n",
    "    learning_rate=learning_rate,\n",
    "    input_dim=input_dim,\n",
    "    output_dim=num_action\n",
    ")\n",
    "simulation = Simulator(\n",
    "    memory=memory,\n",
    "    model=model,\n",
    "    gamma=gamma,\n",
    "    n_traf=n_traf,\n",
    "    state_shape=num_state,\n",
    "    num_actions=num_action,\n",
    "    max_step=max_steps,\n",
    "    training_epochs=training_epochs)\n",
    "\n",
    "episode = 0\n",
    "timestamp_start = datetime.datetime.now()\n",
    "path = set_train_path()\n",
    "\n",
    "while episode < total_episodes:\n",
    "    print('\\n----- Episode', str(episode + 1), 'of', str(total_episodes))\n",
    "    epsilon = 1.0 - (\n",
    "                episode / total_episodes)  # set the epsilon for this episode according to epsilon-greedy policy\n",
    "    simulation_time, training_time = simulation.run(episode, epsilon)  # run the simulation\n",
    "    print('Simulation time:', simulation_time, 's - Training time:', training_time, 's - Total:',\n",
    "            round(simulation_time + training_time, 1), 's')\n",
    "    episode += 1\n",
    "    simulation._Model.save_model(path, episode)\n",
    "\n",
    "print(\"\\n----- Start time:\", timestamp_start)\n",
    "print(\"----- End time:\", datetime.datetime.now())"
   ]
  },
  {
   "cell_type": "code",
   "execution_count": null,
   "metadata": {},
   "outputs": [],
   "source": []
  }
 ],
 "metadata": {
  "kernelspec": {
   "display_name": "Python 3.10.2 64-bit",
   "language": "python",
   "name": "python3"
  },
  "language_info": {
   "codemirror_mode": {
    "name": "ipython",
    "version": 3
   },
   "file_extension": ".py",
   "mimetype": "text/x-python",
   "name": "python",
   "nbconvert_exporter": "python",
   "pygments_lexer": "ipython3",
   "version": "3.10.2"
  },
  "orig_nbformat": 4,
  "vscode": {
   "interpreter": {
    "hash": "369f2c481f4da34e4445cda3fffd2e751bd1c4d706f27375911949ba6bb62e1c"
   }
  }
 },
 "nbformat": 4,
 "nbformat_minor": 2
}
